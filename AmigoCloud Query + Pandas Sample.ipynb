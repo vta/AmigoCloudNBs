{
 "cells": [
  {
   "cell_type": "markdown",
   "metadata": {},
   "source": [
    "Amigocloud api exploration\n",
    "Written by Vivek Bansal\n",
    "Started Monday July 20th, 2016\n",
    "\n",
    "This notebook is a way of querying the amigocloud api and datasets and taking that data and putting it into a pandas data frame.\n",
    "#TODO - convert geom field to create a GeoJson or Shapefile, or possibly geopandas so data can be reuploaded to amigocloud properly.\n",
    "\n",
    "Based off of https://github.com/amigocloud/amigocloud_samples"
   ]
  },
  {
   "cell_type": "code",
   "execution_count": 1,
   "metadata": {
    "collapsed": true
   },
   "outputs": [],
   "source": [
    "from pprint import pprint\n",
    "from amigocloud import AmigoCloud\n",
    "import pandas as pd"
   ]
  },
  {
   "cell_type": "code",
   "execution_count": 2,
   "metadata": {
    "collapsed": false
   },
   "outputs": [],
   "source": [
    "#Read Only Token\n",
    "token = ''"
   ]
  },
  {
   "cell_type": "code",
   "execution_count": 3,
   "metadata": {
    "collapsed": false
   },
   "outputs": [],
   "source": [
    "ac = AmigoCloud(token)\n",
    "me = ac.get('me')\n",
    "me['id']\n",
    "projects = ac.get(me['visible_projects'])"
   ]
  },
  {
   "cell_type": "code",
   "execution_count": 4,
   "metadata": {
    "collapsed": false
   },
   "outputs": [
    {
     "name": "stdout",
     "output_type": "stream",
     "text": [
      "Datasets in project:\n",
      "#Project#  VTA Data # 661\n",
      "* VTA events * 20770\n",
      "* VTA real-time (Current) * 12556\n",
      "* Bus Prediction * 20677\n",
      "* User Feedback * 20756\n",
      "* April_2016 * 70978\n",
      "* April2016 * 70977\n",
      "* January_2016 * 70606\n",
      "* July_2015_OSM * 68970\n",
      "* 522 4.5 hour x, y realtime * 29203\n",
      "* Route 522 2 day 10/30/15 * 29104\n",
      "* Last hour history * 13858\n",
      "* Stops October 2014 * 8719\n",
      "* SELECT * FROM dataset_12556\n",
      "WHERE timestamp >= extract(epoch FROM (now() - interval '1 day')) and ob * 14067\n",
      "* SELECT * FROM dataset_12556\n",
      "WHERE object_id = '2309 - 920956' and timestamp >= extract(epoch FROM (n * 14066\n",
      "* Trapeze Streets * 4247\n",
      "* tracking * 9892\n",
      "* July2015 * 24685\n",
      "* July_2015 * 24684\n",
      "* Bike Lanes and Routes for OSM * 18024\n",
      "* VTA Bounding Box * 22492\n",
      "#Project#  Bus Stop Database Update # 3098\n",
      "* busstopinv_update * 27816\n",
      "* busstopinv_update (copy) * 75192\n",
      "* 147701geom * 75087\n",
      "* busstopinv * 27815\n",
      "* stop147701 * 74330\n",
      "* tracking * 24460\n",
      "* LRT_Stops_RTIID * 30859\n",
      "* Light_Rail_Stops * 26536\n",
      "* shelters * 26091\n",
      "* transitcenters * 26093\n",
      "* maplinksisr * 26087\n",
      "* jurisdiction * 26086\n",
      "* picture1 * 26089\n",
      "* picture2 * 26088\n",
      "* stopsbyroute * 26092\n",
      "* TransitCentersAll * 26095\n",
      "* trapezeid * 26096\n",
      "* zipcode * 26537\n",
      "* tracking_list * 24459\n",
      "* offline_area_users * 24458\n",
      "#Project#  Sample Project # 13165\n",
      "* Sewers * 74698\n",
      "* Manholes * 74697\n",
      "* Parcels * 74696\n",
      "* tracking * 74695\n",
      "* tracking_list * 74694\n",
      "* offline_area_users * 74693\n",
      "* offline_areas * 74692\n",
      "#Project#  VTA_Water_meters # 2859\n",
      "* Meters * 69045\n",
      "* tracking * 22677\n",
      "* tracking_list * 22676\n",
      "* offline_area_users * 22675\n",
      "* offline_areas * 22674\n"
     ]
    }
   ],
   "source": [
    "#Print all Project numbers and datasets.\n",
    "print 'Datasets in project:'\n",
    "for each in projects['results']:\n",
    "    print '#Project# ', each['name'], '#', each['id']\n",
    "    for result in ac.get(each['datasets'])['results']:\n",
    "        print '*', result['name'], '*', result['id']\n",
    "#     for result in ac.get(projects['results'][1]['datasets'])['results']:\n",
    "#         print '*', result['name']"
   ]
  },
  {
   "cell_type": "code",
   "execution_count": 5,
   "metadata": {
    "collapsed": true
   },
   "outputs": [],
   "source": [
    "#busstopinv_update\n",
    "PROJECT_OWNER = me['id']\n",
    "PROJECT_ID = 3098\n",
    "DATASET_ID = 27816\n"
   ]
  },
  {
   "cell_type": "code",
   "execution_count": 6,
   "metadata": {
    "collapsed": false
   },
   "outputs": [
    {
     "name": "stdout",
     "output_type": "stream",
     "text": [
      "The table name we have to use in SQL queries is dataset_27816\n",
      "The table has 3978 rows\n"
     ]
    }
   ],
   "source": [
    "dataset_url = '/users/{user_id}/projects/{project_id}/datasets/{dataset_id}'\n",
    "dataset = ac.get(dataset_url.format(user_id=PROJECT_OWNER,\n",
    "                                    project_id=PROJECT_ID,\n",
    "                                    dataset_id=DATASET_ID))\n",
    "table_name = dataset['table_name']\n",
    "\n",
    "print 'The table name we have to use in SQL queries is', table_name\n",
    "print 'The table has', dataset['feature_count'], 'rows'"
   ]
  },
  {
   "cell_type": "code",
   "execution_count": 7,
   "metadata": {
    "collapsed": true
   },
   "outputs": [],
   "source": [
    "# AmigoCloud supports SQL operators of PostgreSQL and PostGIS. For more\n",
    "# information please refer to:\n",
    "# http://postgis.net/documentation/ and\n",
    "# http://postgis.net/docs/manual-2.1/reference.html\n",
    "\n",
    "sql_url = '/users/{user_id}/projects/{project_id}/sql'.format(\n",
    "    user_id=PROJECT_OWNER, project_id=PROJECT_ID\n",
    ")"
   ]
  },
  {
   "cell_type": "code",
   "execution_count": 8,
   "metadata": {
    "collapsed": true
   },
   "outputs": [],
   "source": [
    "query = 'SELECT * FROM {table}'.format(table=table_name)\n",
    "total_rows = dataset['feature_count']\n",
    "offset = 0\n",
    "limit = 100\n",
    "rows = []\n",
    "response = ac.get(dataset['master'])\n",
    "master = response['master']"
   ]
  },
  {
   "cell_type": "code",
   "execution_count": 9,
   "metadata": {
    "collapsed": false
   },
   "outputs": [
    {
     "name": "stdout",
     "output_type": "stream",
     "text": [
      "The schema of the result is:\n",
      "[{u'name': u'ogc_fid', u'type': u'integer'},\n",
      " {u'name': u'lat', u'type': u'string'},\n",
      " {u'name': u'long', u'type': u'string'},\n",
      " {u'name': u'feature', u'type': u'string'},\n",
      " {u'name': u'rtiid', u'type': u'string'},\n",
      " {u'name': u'stop', u'type': u'string'},\n",
      " {u'name': u'route_number', u'type': u'string'},\n",
      " {u'name': u'routes_listed', u'type': u'string'},\n",
      " {u'name': u'rti', u'type': u'string'},\n",
      " {u'name': u'standard_vta_sign', u'type': u'string'},\n",
      " {u'name': u'two_sided_sign', u'type': u'string'},\n",
      " {u'name': u'other_agencies_signs', u'type': u'string'},\n",
      " {u'name': u'rti_decal', u'type': u'string'},\n",
      " {u'name': u'others_using_stop', u'type': u'string'},\n",
      " {u'name': u'adopt_a_stop', u'type': u'string'},\n",
      " {u'name': u'information_sign', u'type': u'string'},\n",
      " {u'name': u'other_info_sign', u'type': u'string'},\n",
      " {u'name': u'tactile_signs', u'type': u'string'},\n",
      " {u'name': u'pole', u'type': u'string'},\n",
      " {u'name': u'other_pole', u'type': u'string'},\n",
      " {u'name': u'vta_bench', u'type': u'string'},\n",
      " {u'name': u'ad_bench', u'type': u'string'},\n",
      " {u'name': u'metal_vta_benches', u'type': u'string'},\n",
      " {u'name': u'simmie_seat', u'type': u'string'},\n",
      " {u'name': u'private_benches', u'type': u'string'},\n",
      " {u'name': u'vta__trash_container', u'type': u'string'},\n",
      " {u'name': u'concrete_sidewalk', u'type': u'string'},\n",
      " {u'name': u'ac_asphalt_paving', u'type': u'string'},\n",
      " {u'name': u'no_improvements', u'type': u'string'},\n",
      " {u'name': u'bench_pad', u'type': u'string'},\n",
      " {u'name': u'shelter_pad', u'type': u'string'},\n",
      " {u'name': u'pcc_bus_pad', u'type': u'string'},\n",
      " {u'name': u'other_property', u'type': u'string'},\n",
      " {u'name': u'residential', u'type': u'string'},\n",
      " {u'name': u'government_property', u'type': u'string'},\n",
      " {u'name': u'sidewalk_width', u'type': u'string'},\n",
      " {u'name': u'boarding_area', u'type': u'string'},\n",
      " {u'name': u'pavement_condition', u'type': u'string'},\n",
      " {u'name': u'accessible_path_to_crossing', u'type': u'string'},\n",
      " {u'name': u'comments', u'type': u'string'},\n",
      " {u'name': u'photo_date', u'type': u'string'},\n",
      " {u'name': u'date_updated', u'type': u'string'},\n",
      " {u'max_length': 32, u'name': u'amigo_id', u'type': u'string'},\n",
      " {u'name': u'geom', u'type': u'geometry'},\n",
      " {u'name': u'date_visited', u'type': u'datetime'},\n",
      " {u'name': u'shelter', u'type': u'string'},\n",
      " {u'name': u'tc_with_shelter', u'type': u'string'},\n",
      " {u'name': u'tc_other', u'type': u'string'},\n",
      " {u'name': u'parking_restrictions', u'type': u'string'},\n",
      " {u'name': u'boarding_pavement', u'type': u'string'},\n",
      " {u'name': u'other_pad_type', u'type': u'string'},\n",
      " {u'name': u'adjacent_property', u'type': u'string'},\n",
      " {u'name': u'commercial_property', u'type': u'string'},\n",
      " {u'name': u'school', u'type': u'string'},\n",
      " {u'name': u'ada_accessible', u'type': u'string'},\n",
      " {u'name': u'curb_cuts', u'type': u'string'},\n",
      " {u'name': u'lighting_nearby', u'type': u'string'},\n",
      " {u'name': u'pcc_bus_pad_length', u'type': u'string'}]\n"
     ]
    }
   ],
   "source": [
    "#while len(rows) < total_rows:\n",
    "while len(rows) < total_rows:\n",
    "    response = ac.get(sql_url, {'query': query, 'offset': offset,\n",
    "                                'limit': limit, 'state': master,\n",
    "                                'dataset_id': DATASET_ID})\n",
    "\n",
    "    if not offset:  # i.e. If first request\n",
    "        print 'The schema of the result is:'\n",
    "        pprint(response['columns'])\n",
    "\n",
    "    fetched_rows = len(response['data'])\n",
    "    offset += fetched_rows\n",
    "    rows += response['data']\n",
    "    # print 'Fetched', fetched_rows, 'rows'\n",
    "\n",
    "# print 'These are all the rows:'\n",
    "#pprint(rows)"
   ]
  },
  {
   "cell_type": "code",
   "execution_count": 10,
   "metadata": {
    "collapsed": false
   },
   "outputs": [
    {
     "data": {
      "text/plain": [
       "3978"
      ]
     },
     "execution_count": 10,
     "metadata": {},
     "output_type": "execute_result"
    }
   ],
   "source": [
    "len(rows)"
   ]
  },
  {
   "cell_type": "code",
   "execution_count": 11,
   "metadata": {
    "collapsed": true
   },
   "outputs": [],
   "source": [
    "response = ac.get(sql_url, {'query': query, 'offset': offset,'limit': limit, \n",
    "                            'state': master,'dataset_id': DATASET_ID})\n"
   ]
  },
  {
   "cell_type": "code",
   "execution_count": 12,
   "metadata": {
    "collapsed": true
   },
   "outputs": [],
   "source": [
    "df = pd.DataFrame()"
   ]
  },
  {
   "cell_type": "code",
   "execution_count": 13,
   "metadata": {
    "collapsed": false
   },
   "outputs": [],
   "source": [
    "df = pd.DataFrame()\n",
    "inv_update= df.from_dict(rows,orient='columns')"
   ]
  },
  {
   "cell_type": "code",
   "execution_count": 14,
   "metadata": {
    "collapsed": false
   },
   "outputs": [
    {
     "data": {
      "text/html": [
       "<div>\n",
       "<table border=\"1\" class=\"dataframe\">\n",
       "  <thead>\n",
       "    <tr style=\"text-align: right;\">\n",
       "      <th></th>\n",
       "      <th>ac_asphalt_paving</th>\n",
       "      <th>accessible_path_to_crossing</th>\n",
       "      <th>ad_bench</th>\n",
       "      <th>ada_accessible</th>\n",
       "      <th>adjacent_property</th>\n",
       "      <th>adopt_a_stop</th>\n",
       "      <th>amigo_id</th>\n",
       "      <th>bench_pad</th>\n",
       "      <th>boarding_area</th>\n",
       "      <th>boarding_pavement</th>\n",
       "      <th>...</th>\n",
       "      <th>sidewalk_width</th>\n",
       "      <th>simmie_seat</th>\n",
       "      <th>standard_vta_sign</th>\n",
       "      <th>stop</th>\n",
       "      <th>tactile_signs</th>\n",
       "      <th>tc_other</th>\n",
       "      <th>tc_with_shelter</th>\n",
       "      <th>two_sided_sign</th>\n",
       "      <th>vta__trash_container</th>\n",
       "      <th>vta_bench</th>\n",
       "    </tr>\n",
       "  </thead>\n",
       "  <tbody>\n",
       "    <tr>\n",
       "      <th>0</th>\n",
       "      <td>Not Applicable</td>\n",
       "      <td>Yes</td>\n",
       "      <td>0</td>\n",
       "      <td>No</td>\n",
       "      <td>Commercial</td>\n",
       "      <td>No</td>\n",
       "      <td>768451c9906e4567ba56a340ab444cb7</td>\n",
       "      <td>Yes</td>\n",
       "      <td>Yes</td>\n",
       "      <td>PCC Concrete</td>\n",
       "      <td>...</td>\n",
       "      <td>10</td>\n",
       "      <td>None</td>\n",
       "      <td>Yes</td>\n",
       "      <td>418005</td>\n",
       "      <td>None</td>\n",
       "      <td>None</td>\n",
       "      <td>No</td>\n",
       "      <td>No</td>\n",
       "      <td>1</td>\n",
       "      <td>1</td>\n",
       "    </tr>\n",
       "    <tr>\n",
       "      <th>1</th>\n",
       "      <td>Not Applicable</td>\n",
       "      <td>Yes</td>\n",
       "      <td>0</td>\n",
       "      <td>Yes</td>\n",
       "      <td>Residential</td>\n",
       "      <td>No</td>\n",
       "      <td>d6aa43f47a3f498ab8083e31d39b0ff4</td>\n",
       "      <td>Yes</td>\n",
       "      <td>Yes</td>\n",
       "      <td>PCC Concrete</td>\n",
       "      <td>...</td>\n",
       "      <td>5</td>\n",
       "      <td>None</td>\n",
       "      <td>Yes</td>\n",
       "      <td>416809</td>\n",
       "      <td>Bus</td>\n",
       "      <td>None</td>\n",
       "      <td>Not Applicable</td>\n",
       "      <td>No</td>\n",
       "      <td>0</td>\n",
       "      <td>1</td>\n",
       "    </tr>\n",
       "    <tr>\n",
       "      <th>2</th>\n",
       "      <td>Not Applicable</td>\n",
       "      <td>None</td>\n",
       "      <td>0</td>\n",
       "      <td>None</td>\n",
       "      <td>Residential</td>\n",
       "      <td>No</td>\n",
       "      <td>dc0c52b4979f408e8737f4b0d0093421</td>\n",
       "      <td>Yes</td>\n",
       "      <td>Yes</td>\n",
       "      <td>PCC Concrete</td>\n",
       "      <td>...</td>\n",
       "      <td>6</td>\n",
       "      <td>None</td>\n",
       "      <td>Yes</td>\n",
       "      <td>416808</td>\n",
       "      <td>None</td>\n",
       "      <td>None</td>\n",
       "      <td>None</td>\n",
       "      <td>No</td>\n",
       "      <td>0</td>\n",
       "      <td>0</td>\n",
       "    </tr>\n",
       "    <tr>\n",
       "      <th>3</th>\n",
       "      <td>Not Applicable</td>\n",
       "      <td>Yes</td>\n",
       "      <td>0</td>\n",
       "      <td>Yes</td>\n",
       "      <td>Residential</td>\n",
       "      <td>Yes</td>\n",
       "      <td>f691671d4884486790cf81a332bba291</td>\n",
       "      <td>No</td>\n",
       "      <td>Yes</td>\n",
       "      <td>Gravel</td>\n",
       "      <td>...</td>\n",
       "      <td>6</td>\n",
       "      <td>None</td>\n",
       "      <td>Yes</td>\n",
       "      <td>416806</td>\n",
       "      <td>None</td>\n",
       "      <td>None</td>\n",
       "      <td>Not Applicable</td>\n",
       "      <td>No</td>\n",
       "      <td>0</td>\n",
       "      <td>0</td>\n",
       "    </tr>\n",
       "    <tr>\n",
       "      <th>4</th>\n",
       "      <td>Not Applicable</td>\n",
       "      <td>Yes</td>\n",
       "      <td>0</td>\n",
       "      <td>Yes</td>\n",
       "      <td>Residential</td>\n",
       "      <td>Yes</td>\n",
       "      <td>466ed668e5b349b696ddc1dfd9312d9d</td>\n",
       "      <td>Yes</td>\n",
       "      <td>Yes</td>\n",
       "      <td>Gravel</td>\n",
       "      <td>...</td>\n",
       "      <td>6</td>\n",
       "      <td>None</td>\n",
       "      <td>Yes</td>\n",
       "      <td>406817</td>\n",
       "      <td>Bus</td>\n",
       "      <td>None</td>\n",
       "      <td>Not Applicable</td>\n",
       "      <td>Yes</td>\n",
       "      <td>0</td>\n",
       "      <td>1</td>\n",
       "    </tr>\n",
       "  </tbody>\n",
       "</table>\n",
       "<p>5 rows × 58 columns</p>\n",
       "</div>"
      ],
      "text/plain": [
       "  ac_asphalt_paving accessible_path_to_crossing ad_bench ada_accessible  \\\n",
       "0    Not Applicable                         Yes        0             No   \n",
       "1    Not Applicable                         Yes        0            Yes   \n",
       "2    Not Applicable                        None        0           None   \n",
       "3    Not Applicable                         Yes        0            Yes   \n",
       "4    Not Applicable                         Yes        0            Yes   \n",
       "\n",
       "  adjacent_property adopt_a_stop                          amigo_id bench_pad  \\\n",
       "0        Commercial           No  768451c9906e4567ba56a340ab444cb7       Yes   \n",
       "1       Residential           No  d6aa43f47a3f498ab8083e31d39b0ff4       Yes   \n",
       "2       Residential           No  dc0c52b4979f408e8737f4b0d0093421       Yes   \n",
       "3       Residential          Yes  f691671d4884486790cf81a332bba291        No   \n",
       "4       Residential          Yes  466ed668e5b349b696ddc1dfd9312d9d       Yes   \n",
       "\n",
       "  boarding_area boarding_pavement    ...    sidewalk_width simmie_seat  \\\n",
       "0           Yes      PCC Concrete    ...                10        None   \n",
       "1           Yes      PCC Concrete    ...                 5        None   \n",
       "2           Yes      PCC Concrete    ...                 6        None   \n",
       "3           Yes            Gravel    ...                 6        None   \n",
       "4           Yes            Gravel    ...                 6        None   \n",
       "\n",
       "  standard_vta_sign    stop tactile_signs tc_other tc_with_shelter  \\\n",
       "0               Yes  418005          None     None              No   \n",
       "1               Yes  416809           Bus     None  Not Applicable   \n",
       "2               Yes  416808          None     None            None   \n",
       "3               Yes  416806          None     None  Not Applicable   \n",
       "4               Yes  406817           Bus     None  Not Applicable   \n",
       "\n",
       "  two_sided_sign vta__trash_container vta_bench  \n",
       "0             No                    1         1  \n",
       "1             No                    0         1  \n",
       "2             No                    0         0  \n",
       "3             No                    0         0  \n",
       "4            Yes                    0         1  \n",
       "\n",
       "[5 rows x 58 columns]"
      ]
     },
     "execution_count": 14,
     "metadata": {},
     "output_type": "execute_result"
    }
   ],
   "source": [
    "inv_update.head()"
   ]
  },
  {
   "cell_type": "code",
   "execution_count": 15,
   "metadata": {
    "collapsed": false
   },
   "outputs": [
    {
     "data": {
      "text/plain": [
       "u'0101000020E61000008CF337A110785EC08BFDA713B7B54240'"
      ]
     },
     "execution_count": 15,
     "metadata": {},
     "output_type": "execute_result"
    }
   ],
   "source": [
    "#TODO - Convert GEOMS which are WKT hexadecimal string or WKB to some other format\n",
    "inv_update['geom'][0]"
   ]
  },
  {
   "cell_type": "code",
   "execution_count": 16,
   "metadata": {
    "collapsed": false
   },
   "outputs": [],
   "source": [
    "#find column differences between data frames\n",
    "#missing_stop_with_geo.columns.difference(inv_update.columns)"
   ]
  }
 ],
 "metadata": {
  "anaconda-cloud": {},
  "kernelspec": {
   "display_name": "Python [AmigoCloud]",
   "language": "python",
   "name": "Python [AmigoCloud]"
  },
  "language_info": {
   "codemirror_mode": {
    "name": "ipython",
    "version": 2
   },
   "file_extension": ".py",
   "mimetype": "text/x-python",
   "name": "python",
   "nbconvert_exporter": "python",
   "pygments_lexer": "ipython2",
   "version": "2.7.12"
  }
 },
 "nbformat": 4,
 "nbformat_minor": 0
}
