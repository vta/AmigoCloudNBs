{
 "cells": [
  {
   "cell_type": "markdown",
   "metadata": {},
   "source": [
    "Based off of:\n",
    "#https://github.com/amigocloud/amigocloud_samples/blob/master/python/revert_changesets.py\n",
    "\n",
    "What if you run into a problem with your AmigoCloud database and somebody deleted your entry?  What do you do?\n",
    "\n",
    "Access the specific table.  Iterate through the changesets till you find the delete action that deleted your entry.  Inspect that change hashset.  Do a post to reverse that change.\n"
   ]
  },
  {
   "cell_type": "code",
   "execution_count": 4,
   "metadata": {
    "collapsed": true
   },
   "outputs": [],
   "source": [
    "from amigocloud import AmigoCloud\n",
    "token = ''\n",
    "ac = AmigoCloud(token)\n",
    "me = ac.get('me')\n",
    "\n",
    "PROJECT_OWNER = me['id']\n",
    "PROJECT_ID = 3098\n",
    "\n",
    "#busstopinv_update * 27816\n",
    "DATASET_ID = 27816\n",
    "dataset_url = '/users/{user_id}/projects/{project_id}/datasets/{dataset_id}'\n",
    "durl= dataset_url.format(user_id=PROJECT_OWNER,\n",
    "                                    project_id=PROJECT_ID,\n",
    "                                    dataset_id=DATASET_ID)"
   ]
  },
  {
   "cell_type": "code",
   "execution_count": 25,
   "metadata": {
    "collapsed": false
   },
   "outputs": [
    {
     "data": {
      "text/plain": [
       "u'dataset_27816'"
      ]
     },
     "execution_count": 25,
     "metadata": {},
     "output_type": "execute_result"
    }
   ],
   "source": [
    "dataset['table_name']"
   ]
  },
  {
   "cell_type": "code",
   "execution_count": 7,
   "metadata": {
    "collapsed": false
   },
   "outputs": [
    {
     "data": {
      "text/plain": [
       "'/users/3249/projects/3098/datasets/27816'"
      ]
     },
     "execution_count": 7,
     "metadata": {},
     "output_type": "execute_result"
    }
   ],
   "source": [
    "durl"
   ]
  },
  {
   "cell_type": "code",
   "execution_count": 10,
   "metadata": {
    "collapsed": true
   },
   "outputs": [],
   "source": [
    "dataset = ac.get(durl)"
   ]
  },
  {
   "cell_type": "code",
   "execution_count": 11,
   "metadata": {
    "collapsed": false
   },
   "outputs": [],
   "source": [
    "TO_STATE= ac.get(ac.get(durl)['chunked_changesets'])['to']"
   ]
  },
  {
   "cell_type": "code",
   "execution_count": 12,
   "metadata": {
    "collapsed": false
   },
   "outputs": [
    {
     "ename": "AttributeError",
     "evalue": "'NoneType' object has no attribute 'startswith'",
     "output_type": "error",
     "traceback": [
      "\u001b[0;31m---------------------------------------------------------------------------\u001b[0m",
      "\u001b[0;31mAttributeError\u001b[0m                            Traceback (most recent call last)",
      "\u001b[0;32m<ipython-input-12-2431967b31a1>\u001b[0m in \u001b[0;36m<module>\u001b[0;34m()\u001b[0m\n\u001b[1;32m      5\u001b[0m \u001b[0;34m\u001b[0m\u001b[0m\n\u001b[1;32m      6\u001b[0m \u001b[0;32mfor\u001b[0m \u001b[0mx\u001b[0m \u001b[0;32min\u001b[0m \u001b[0mxrange\u001b[0m\u001b[0;34m(\u001b[0m\u001b[0;36m1\u001b[0m\u001b[0;34m,\u001b[0m\u001b[0;36m100000\u001b[0m\u001b[0;34m)\u001b[0m\u001b[0;34m:\u001b[0m\u001b[0;34m\u001b[0m\u001b[0m\n\u001b[0;32m----> 7\u001b[0;31m     \u001b[0mchanges\u001b[0m\u001b[0;34m.\u001b[0m\u001b[0mappend\u001b[0m\u001b[0;34m(\u001b[0m\u001b[0mac\u001b[0m\u001b[0;34m.\u001b[0m\u001b[0mget\u001b[0m\u001b[0;34m(\u001b[0m\u001b[0mnext_url\u001b[0m\u001b[0;34m)\u001b[0m\u001b[0;34m)\u001b[0m\u001b[0;34m\u001b[0m\u001b[0m\n\u001b[0m\u001b[1;32m      8\u001b[0m     \u001b[0mnext_url\u001b[0m \u001b[0;34m=\u001b[0m \u001b[0mchanges\u001b[0m\u001b[0;34m[\u001b[0m\u001b[0mx\u001b[0m\u001b[0;34m]\u001b[0m\u001b[0;34m[\u001b[0m\u001b[0;34m'parent'\u001b[0m\u001b[0;34m]\u001b[0m\u001b[0;34m\u001b[0m\u001b[0m\n",
      "\u001b[0;32m/Users/Vivek/anaconda2/envs/AmigoCloud/lib/python2.7/site-packages/amigocloud/amigocloud.pyc\u001b[0m in \u001b[0;36mget\u001b[0;34m(self, url, params, raw, stream, **request_kwargs)\u001b[0m\n\u001b[1;32m     93\u001b[0m         \"\"\"\n\u001b[1;32m     94\u001b[0m \u001b[0;34m\u001b[0m\u001b[0m\n\u001b[0;32m---> 95\u001b[0;31m         \u001b[0mfull_url\u001b[0m \u001b[0;34m=\u001b[0m \u001b[0mself\u001b[0m\u001b[0;34m.\u001b[0m\u001b[0mbuild_url\u001b[0m\u001b[0;34m(\u001b[0m\u001b[0murl\u001b[0m\u001b[0;34m)\u001b[0m\u001b[0;34m\u001b[0m\u001b[0m\n\u001b[0m\u001b[1;32m     96\u001b[0m         \u001b[0mparams\u001b[0m \u001b[0;34m=\u001b[0m \u001b[0mparams\u001b[0m \u001b[0;32mor\u001b[0m \u001b[0;34m{\u001b[0m\u001b[0;34m}\u001b[0m\u001b[0;34m\u001b[0m\u001b[0m\n\u001b[1;32m     97\u001b[0m \u001b[0;34m\u001b[0m\u001b[0m\n",
      "\u001b[0;32m/Users/Vivek/anaconda2/envs/AmigoCloud/lib/python2.7/site-packages/amigocloud/amigocloud.pyc\u001b[0m in \u001b[0;36mbuild_url\u001b[0;34m(self, url)\u001b[0m\n\u001b[1;32m     65\u001b[0m     \u001b[0;32mdef\u001b[0m \u001b[0mbuild_url\u001b[0m\u001b[0;34m(\u001b[0m\u001b[0mself\u001b[0m\u001b[0;34m,\u001b[0m \u001b[0murl\u001b[0m\u001b[0;34m)\u001b[0m\u001b[0;34m:\u001b[0m\u001b[0;34m\u001b[0m\u001b[0m\n\u001b[1;32m     66\u001b[0m \u001b[0;34m\u001b[0m\u001b[0m\n\u001b[0;32m---> 67\u001b[0;31m         \u001b[0;32mif\u001b[0m \u001b[0murl\u001b[0m\u001b[0;34m.\u001b[0m\u001b[0mstartswith\u001b[0m\u001b[0;34m(\u001b[0m\u001b[0;34m'http'\u001b[0m\u001b[0;34m)\u001b[0m\u001b[0;34m:\u001b[0m\u001b[0;34m\u001b[0m\u001b[0m\n\u001b[0m\u001b[1;32m     68\u001b[0m             \u001b[0;31m# User already specified the full url\u001b[0m\u001b[0;34m\u001b[0m\u001b[0;34m\u001b[0m\u001b[0m\n\u001b[1;32m     69\u001b[0m             \u001b[0;32mreturn\u001b[0m \u001b[0murl\u001b[0m\u001b[0;34m\u001b[0m\u001b[0m\n",
      "\u001b[0;31mAttributeError\u001b[0m: 'NoneType' object has no attribute 'startswith'"
     ]
    }
   ],
   "source": [
    "#Store all changes that happended locally\n",
    "#errors out when it hits the last change...\n",
    "changes = []\n",
    "\n",
    "changes.append(ac.get(dataset['changeset'], {'hash':TO_STATE}))\n",
    "next_url= changes[0]['parent']\n",
    "\n",
    "for x in xrange(1,100000):\n",
    "    changes.append(ac.get(next_url))\n",
    "    next_url = changes[x]['parent']\n"
   ]
  },
  {
   "cell_type": "code",
   "execution_count": 34,
   "metadata": {
    "collapsed": false
   },
   "outputs": [
    {
     "data": {
      "text/plain": [
       "[{u'action': u'UPDATE',\n",
       "  u'data': [{u'amigo_id': u'f54a8e8f59974af683a8e4457438ab12',\n",
       "    u'new': {u'accessible_path_to_crossing': u'Yes',\n",
       "     u'ada_accessible': u'No',\n",
       "     u'adjacent_property': u'School',\n",
       "     u'boarding_area': u'Yes',\n",
       "     u'boarding_pavement': u'PCC Concrete',\n",
       "     u'curb_cuts': u'None',\n",
       "     u'date_visited': u'2016-07-19 18:10:38',\n",
       "     u'lighting_nearby': u'S.L. Same Side',\n",
       "     u'metal_vta_benches': None,\n",
       "     u'parking_restrictions': u'Red Curb',\n",
       "     u'pcc_bus_pad_length': u'',\n",
       "     u'rti': None,\n",
       "     u'rti_decal': u'Yes',\n",
       "     u'school': u'Middle',\n",
       "     u'shelter': u'NO',\n",
       "     u'simmie_seat': None,\n",
       "     u'tc_with_shelter': u'No',\n",
       "     u'two_sided_sign': u'No'},\n",
       "    u'old': {u'accessible_path_to_crossing': u'',\n",
       "     u'ada_accessible': None,\n",
       "     u'adjacent_property': None,\n",
       "     u'boarding_area': u'',\n",
       "     u'boarding_pavement': None,\n",
       "     u'curb_cuts': None,\n",
       "     u'date_visited': u'2015-10-22 15:56:00.723595',\n",
       "     u'lighting_nearby': None,\n",
       "     u'metal_vta_benches': u'',\n",
       "     u'parking_restrictions': None,\n",
       "     u'pcc_bus_pad_length': None,\n",
       "     u'rti': u'',\n",
       "     u'rti_decal': u'',\n",
       "     u'school': None,\n",
       "     u'shelter': None,\n",
       "     u'simmie_seat': u'',\n",
       "     u'tc_with_shelter': None,\n",
       "     u'two_sided_sign': u''}}],\n",
       "  u'entity': u'dataset_27816',\n",
       "  u'type': u'DML'}]"
      ]
     },
     "execution_count": 34,
     "metadata": {},
     "output_type": "execute_result"
    }
   ],
   "source": [
    "changes[0]['changeset']"
   ]
  },
  {
   "cell_type": "code",
   "execution_count": 13,
   "metadata": {
    "collapsed": false
   },
   "outputs": [
    {
     "name": "stdout",
     "output_type": "stream",
     "text": [
      "383\n",
      "{u'changeset': [{u'action': u'UPDATE', u'data': [{u'new': {u'pcc_bus_pad_length': u'', u'metal_vta_benches': u'0', u'parking_restrictions': u'No Parking Sign', u'simmie_seat': None, u'boarding_area': u'No', u'curb_cuts': u'Yes', u'rti_decal': u'Yes', u'rti': u'Yes', u'two_sided_sign': u'No', u'adjacent_property': u'Commercial', u'accessible_path_to_crossing': u'Yes', u'lighting_nearby': u'S.L. Same Side', u'tc_with_shelter': u'Yes', u'commercial_property': u'Office Building', u'shelter': u'Vendor Ad', u'date_visited': u'2016-04-11 18:33:00', u'ada_accessible': u'Yes', u'other_pad_type': u'No', u'boarding_pavement': u'PCC Concrete'}, u'old': {u'pcc_bus_pad_length': None, u'metal_vta_benches': u'', u'parking_restrictions': None, u'simmie_seat': u'', u'boarding_area': u'', u'curb_cuts': None, u'rti_decal': u'', u'rti': u'', u'two_sided_sign': u'', u'adjacent_property': None, u'accessible_path_to_crossing': u'', u'lighting_nearby': None, u'tc_with_shelter': None, u'commercial_property': None, u'shelter': None, u'date_visited': u'2015-10-22 15:56:00.723595', u'ada_accessible': None, u'other_pad_type': None, u'boarding_pavement': None}, u'amigo_id': u'99c9b41720194b07882b690f2b9dc02d'}], u'type': u'DML', u'entity': u'dataset_27816'}, {u'action': u'DELETE', u'data': [{u'old': {u'vta_bench': u'1', u'others_using_stop': u'', u'boarding_area': u'', u'date_updated': u'7/10/2000 0:00', u'tactile_signs': u'None', u'date_visited': u'2015-10-22 15:56:00.723595', u'rti': u'', u'lighting_nearby': None, u'pavement_condition': u'OK', u'tc_with_shelter': None, u'lat': u'37.40155058', u'pole': u'Standard', u'comments': u'', u'shelter_pad': u'No', u'ogc_fid': 1, u'other_property': u'', u'route_number': u'Null', u'no_improvements': u'Not Applicable', u'curb_cuts': None, u'tc_other': None, u'photo_date': u'', u'ac_asphalt_paving': u'Not Applicable', u'boarding_pavement': None, u'standard_vta_sign': u'Yes', u'accessible_path_to_crossing': u'', u'feature': u'Bus Stop', u'long': u'-122.1043461', u'routes_listed': u'40 35 34', u'adopt_a_stop': u'No', u'geom': u'0101000020E6100000C5BD439BAD865EC01965680266B34240', u'ada_accessible': None, u'other_info_sign': u'', u'information_sign': u'None', u'ad_bench': u'0', u'pcc_bus_pad_length': None, u'parking_restrictions': None, u'adjacent_property': None, u'residential': u'Multi-Family', u'rti_decal': u'', u'simmie_seat': u'', u'stop': u'147701', u'private_benches': u'0', u'concrete_sidewalk': u'Monolithic', u'government_property': u'Not Applicable', u'metal_vta_benches': u'', u'other_pad_type': None, u'school': None, u'bench_pad': u'Yes', u'other_pole': u'', u'two_sided_sign': u'', u'rtiid': u'61540', u'sidewalk_width': u'5', u'commercial_property': None, u'shelter': None, u'other_agencies_signs': u'None', u'pcc_bus_pad': u'None', u'vta__trash_container': u'1'}, u'amigo_id': u'65ae0854401748b1a7ca1153828f785f'}], u'type': u'DML', u'entity': u'dataset_27816'}], u'hash': u'7c0f791fe93fda84695866052018d2d8', u'parent': u'https://www.amigocloud.com/api/v1/users/71/projects/3098/datasets/27816/changeset?hash=d07e57f4346331b56978c41c870ddd51', u'revert': u'https://www.amigocloud.com/api/v1/users/71/projects/3098/datasets/27816/revert/7c0f791fe93fda84695866052018d2d8', u'to_datetime': u'2016-04-11T18:39:01.652Z', u'from_datetime': u'2016-04-11T18:39:01.652Z', u'children': [u'https://www.amigocloud.com/api/v1/users/71/projects/3098/datasets/27816/changeset?hash=bf233749ddb0a8d3f72b3663bf0394e5'], u'user': u'https://www.amigocloud.com/api/v1/users/1576'}\n"
     ]
    }
   ],
   "source": [
    "ready = 0\n",
    "counter = 0\n",
    "amigo_id = []\n",
    "for every in changes:\n",
    "    for each in every['changeset']:\n",
    "        if each.get('action')=='DELETE':\n",
    "            print(ready)\n",
    "            print(every)\n",
    "            amigo_id.append(every['parent'])\n",
    "            counter = counter + 1\n",
    "    ready = ready + 1"
   ]
  },
  {
   "cell_type": "code",
   "execution_count": 16,
   "metadata": {
    "collapsed": false
   },
   "outputs": [],
   "source": [
    "state= changes[383]['hash']"
   ]
  },
  {
   "cell_type": "code",
   "execution_count": 42,
   "metadata": {
    "collapsed": false
   },
   "outputs": [
    {
     "data": {
      "text/plain": [
       "[u'https://www.amigocloud.com/api/v1/users/71/projects/3098/datasets/27816/changeset?hash=d07e57f4346331b56978c41c870ddd51']"
      ]
     },
     "execution_count": 42,
     "metadata": {},
     "output_type": "execute_result"
    }
   ],
   "source": [
    "amigo_id\n",
    "#https://www.amigocloud.com/api/v1/users/71/projects/3098/datasets/27816/revert/7c0f791fe93fda84695866052018d2d8"
   ]
  },
  {
   "cell_type": "code",
   "execution_count": null,
   "metadata": {
    "collapsed": true
   },
   "outputs": [],
   "source": [
    "#Record other changes that happended\n",
    "\"new\": {\n",
    "                        \"pcc_bus_pad_length\": \"\", \n",
    "                        \"metal_vta_benches\": \"0\", \n",
    "                        \"parking_restrictions\": \"No Parking Sign\", \n",
    "                        \"adjacent_property\": \"Commercial\", \n",
    "                        \"boarding_area\": \"No\", \n",
    "                        \"curb_cuts\": \"Yes\", \n",
    "                        \"rti_decal\": \"Yes\", \n",
    "                        \"accessible_path_to_crossing\": \"Yes\", \n",
    "                        \"two_sided_sign\": \"No\", \n",
    "                        \"simmie_seat\": null, \n",
    "                        \"rti\": \"Yes\", \n",
    "                        \"lighting_nearby\": \"S.L. Same Side\", \n",
    "                        \"tc_with_shelter\": \"Yes\", \n",
    "                        \"commercial_property\": \"Office Building\", \n",
    "                        \"shelter\": \"Vendor Ad\", \n",
    "                        \"date_visited\": \"2016-04-11 18:33:00\", \n",
    "                        \"ada_accessible\": \"Yes\", \n",
    "                        \"other_pad_type\": \"No\", \n",
    "                        \"boarding_pavement\": \"PCC Concrete\"\n",
    "                    }, \n",
    "                    \"old\": {\n",
    "                        \"pcc_bus_pad_length\": null, \n",
    "                        \"metal_vta_benches\": \"\", \n",
    "                        \"parking_restrictions\": null, \n",
    "                        \"adjacent_property\": null, \n",
    "                        \"boarding_area\": \"\", \n",
    "                        \"curb_cuts\": null, \n",
    "                        \"rti_decal\": \"\", \n",
    "                        \"accessible_path_to_crossing\": \"\", \n",
    "                        \"two_sided_sign\": \"\", \n",
    "                        \"simmie_seat\": \"\", \n",
    "                        \"rti\": \"\", \n",
    "                        \"lighting_nearby\": null, \n",
    "                        \"tc_with_shelter\": null, \n",
    "                        \"commercial_property\": null, \n",
    "                        \"shelter\": null, \n",
    "                        \"date_visited\": \"2015-10-22 15:56:00.723595\", \n",
    "                        \"ada_accessible\": null, \n",
    "                        \"other_pad_type\": null, \n",
    "                        \"boarding_pavement\": null\n",
    "                    }, \n",
    "                    \"amigo_id\": \"99c9b41720194b07882b690f2b9dc02d\"\n",
    "                                    \"entity\": \"dataset_27816\""
   ]
  },
  {
   "cell_type": "code",
   "execution_count": null,
   "metadata": {
    "collapsed": true
   },
   "outputs": [],
   "source": [
    "#revert_state_url = durl + '/revert/{state}'.format(state=state)\n",
    "#result = ac.post(revert_state_url)  # Send revert\n",
    "#job = result['job']"
   ]
  },
  {
   "cell_type": "code",
   "execution_count": 19,
   "metadata": {
    "collapsed": false
   },
   "outputs": [
    {
     "data": {
      "text/plain": [
       "u'https://www.amigocloud.com/api/v1/users/71/projects/3098/datasets/27816/revert/7c0f791fe93fda84695866052018d2d8'"
      ]
     },
     "execution_count": 19,
     "metadata": {},
     "output_type": "execute_result"
    }
   ],
   "source": [
    "changes[383]['revert']"
   ]
  },
  {
   "cell_type": "code",
   "execution_count": 20,
   "metadata": {
    "collapsed": false
   },
   "outputs": [
    {
     "ename": "AmigoCloudError",
     "evalue": "403 Client Error: FORBIDDEN\n{\"detail\": \"You need at least a CREATE token to perform this action. However, this is a READ token.\"}",
     "output_type": "error",
     "traceback": [
      "\u001b[0;31m---------------------------------------------------------------------------\u001b[0m",
      "\u001b[0;31mAmigoCloudError\u001b[0m                           Traceback (most recent call last)",
      "\u001b[0;32m<ipython-input-20-0d5c5cb4958c>\u001b[0m in \u001b[0;36m<module>\u001b[0;34m()\u001b[0m\n\u001b[0;32m----> 1\u001b[0;31m \u001b[0mac\u001b[0m\u001b[0;34m.\u001b[0m\u001b[0mpost\u001b[0m\u001b[0;34m(\u001b[0m\u001b[0mchanges\u001b[0m\u001b[0;34m[\u001b[0m\u001b[0;36m383\u001b[0m\u001b[0;34m]\u001b[0m\u001b[0;34m[\u001b[0m\u001b[0;34m'revert'\u001b[0m\u001b[0;34m]\u001b[0m\u001b[0;34m)\u001b[0m\u001b[0;34m\u001b[0m\u001b[0m\n\u001b[0m",
      "\u001b[0;32m/Users/Vivek/anaconda2/envs/AmigoCloud/lib/python2.7/site-packages/amigocloud/amigocloud.pyc\u001b[0m in \u001b[0;36mpost\u001b[0;34m(self, url, data, files, headers, raw, send_as_json, content_type, **request_kwargs)\u001b[0m\n\u001b[1;32m    154\u001b[0m             \u001b[0murl\u001b[0m\u001b[0;34m,\u001b[0m \u001b[0;34m'post'\u001b[0m\u001b[0;34m,\u001b[0m \u001b[0mdata\u001b[0m\u001b[0;34m=\u001b[0m\u001b[0mdata\u001b[0m\u001b[0;34m,\u001b[0m \u001b[0mfiles\u001b[0m\u001b[0;34m=\u001b[0m\u001b[0mfiles\u001b[0m\u001b[0;34m,\u001b[0m \u001b[0mheaders\u001b[0m\u001b[0;34m=\u001b[0m\u001b[0mheaders\u001b[0m\u001b[0;34m,\u001b[0m \u001b[0mraw\u001b[0m\u001b[0;34m=\u001b[0m\u001b[0mraw\u001b[0m\u001b[0;34m,\u001b[0m\u001b[0;34m\u001b[0m\u001b[0m\n\u001b[1;32m    155\u001b[0m             \u001b[0msend_as_json\u001b[0m\u001b[0;34m=\u001b[0m\u001b[0msend_as_json\u001b[0m\u001b[0;34m,\u001b[0m \u001b[0mcontent_type\u001b[0m\u001b[0;34m=\u001b[0m\u001b[0mcontent_type\u001b[0m\u001b[0;34m,\u001b[0m\u001b[0;34m\u001b[0m\u001b[0m\n\u001b[0;32m--> 156\u001b[0;31m             \u001b[0;34m**\u001b[0m\u001b[0mrequest_kwargs\u001b[0m\u001b[0;34m\u001b[0m\u001b[0m\n\u001b[0m\u001b[1;32m    157\u001b[0m         )\n\u001b[1;32m    158\u001b[0m \u001b[0;34m\u001b[0m\u001b[0m\n",
      "\u001b[0;32m/Users/Vivek/anaconda2/envs/AmigoCloud/lib/python2.7/site-packages/amigocloud/amigocloud.pyc\u001b[0m in \u001b[0;36m_secure_request\u001b[0;34m(self, url, method, data, files, headers, raw, send_as_json, content_type, **request_kwargs)\u001b[0m\n\u001b[1;32m    139\u001b[0m         response = method(full_url, data=data, files=files, headers=headers,\n\u001b[1;32m    140\u001b[0m                           **request_kwargs)\n\u001b[0;32m--> 141\u001b[0;31m         \u001b[0mself\u001b[0m\u001b[0;34m.\u001b[0m\u001b[0mcheck_for_errors\u001b[0m\u001b[0;34m(\u001b[0m\u001b[0mresponse\u001b[0m\u001b[0;34m)\u001b[0m  \u001b[0;31m# Raise exception if something failed\u001b[0m\u001b[0;34m\u001b[0m\u001b[0m\n\u001b[0m\u001b[1;32m    142\u001b[0m \u001b[0;34m\u001b[0m\u001b[0m\n\u001b[1;32m    143\u001b[0m         \u001b[0;32mif\u001b[0m \u001b[0mraw\u001b[0m \u001b[0;32mor\u001b[0m \u001b[0;32mnot\u001b[0m \u001b[0mresponse\u001b[0m\u001b[0;34m.\u001b[0m\u001b[0mcontent\u001b[0m\u001b[0;34m:\u001b[0m\u001b[0;34m\u001b[0m\u001b[0m\n",
      "\u001b[0;32m/Users/Vivek/anaconda2/envs/AmigoCloud/lib/python2.7/site-packages/amigocloud/amigocloud.pyc\u001b[0m in \u001b[0;36mcheck_for_errors\u001b[0;34m(self, response)\u001b[0m\n\u001b[1;32m     77\u001b[0m             \u001b[0mresponse\u001b[0m\u001b[0;34m.\u001b[0m\u001b[0mraise_for_status\u001b[0m\u001b[0;34m(\u001b[0m\u001b[0;34m)\u001b[0m\u001b[0;34m\u001b[0m\u001b[0m\n\u001b[1;32m     78\u001b[0m         \u001b[0;32mexcept\u001b[0m \u001b[0mrequests\u001b[0m\u001b[0;34m.\u001b[0m\u001b[0mexceptions\u001b[0m\u001b[0;34m.\u001b[0m\u001b[0mHTTPError\u001b[0m \u001b[0;32mas\u001b[0m \u001b[0mexc\u001b[0m\u001b[0;34m:\u001b[0m\u001b[0;34m\u001b[0m\u001b[0m\n\u001b[0;32m---> 79\u001b[0;31m             \u001b[0;32mraise\u001b[0m \u001b[0mAmigoCloudError\u001b[0m\u001b[0;34m(\u001b[0m\u001b[0mexc\u001b[0m\u001b[0;34m.\u001b[0m\u001b[0mmessage\u001b[0m\u001b[0;34m,\u001b[0m \u001b[0mexc\u001b[0m\u001b[0;34m.\u001b[0m\u001b[0mresponse\u001b[0m\u001b[0;34m)\u001b[0m\u001b[0;34m\u001b[0m\u001b[0m\n\u001b[0m\u001b[1;32m     80\u001b[0m \u001b[0;34m\u001b[0m\u001b[0m\n\u001b[1;32m     81\u001b[0m     \u001b[0;32mdef\u001b[0m \u001b[0mauthenticate\u001b[0m\u001b[0;34m(\u001b[0m\u001b[0mself\u001b[0m\u001b[0;34m,\u001b[0m \u001b[0mtoken\u001b[0m\u001b[0;34m)\u001b[0m\u001b[0;34m:\u001b[0m\u001b[0;34m\u001b[0m\u001b[0m\n",
      "\u001b[0;31mAmigoCloudError\u001b[0m: 403 Client Error: FORBIDDEN\n{\"detail\": \"You need at least a CREATE token to perform this action. However, this is a READ token.\"}"
     ]
    }
   ],
   "source": [
    "ac.post(changes[383]['revert'])"
   ]
  },
  {
   "cell_type": "code",
   "execution_count": 22,
   "metadata": {
    "collapsed": true
   },
   "outputs": [],
   "source": [
    "#Get a create token.\n",
    "token = ''\n",
    "ac = AmigoCloud(token)\n",
    "me = ac.get('me')"
   ]
  },
  {
   "cell_type": "code",
   "execution_count": 23,
   "metadata": {
    "collapsed": false
   },
   "outputs": [
    {
     "data": {
      "text/plain": [
       "{u'job': u'de407998-9114-4f7b-8854-bf0a2cde6dd8'}"
      ]
     },
     "execution_count": 23,
     "metadata": {},
     "output_type": "execute_result"
    }
   ],
   "source": [
    "ac.post(changes[383]['revert'])"
   ]
  },
  {
   "cell_type": "code",
   "execution_count": null,
   "metadata": {
    "collapsed": true
   },
   "outputs": [],
   "source": [
    "                        \"pcc_bus_pad_length\": \"\", \n",
    "                        \"metal_vta_benches\": \"0\", \n",
    "                        \"parking_restrictions\": \"No Parking Sign\", \n",
    "                        \"adjacent_property\": \"Commercial\", \n",
    "                        \"boarding_area\": \"No\", \n",
    "                        \"curb_cuts\": \"Yes\", \n",
    "                        \"rti_decal\": \"Yes\", \n",
    "                        \"accessible_path_to_crossing\": \"Yes\", \n",
    "                        \"two_sided_sign\": \"No\", \n",
    "                        \"simmie_seat\": null, \n",
    "                        \"rti\": \"Yes\", \n",
    "                        \"lighting_nearby\": \"S.L. Same Side\", \n",
    "                        \"tc_with_shelter\": \"Yes\", \n",
    "                        \"commercial_property\": \"Office Building\", \n",
    "                        \"shelter\": \"Vendor Ad\", \n",
    "                        \"date_visited\": \"2016-04-11 18:33:00\", \n",
    "                        \"ada_accessible\": \"Yes\", \n",
    "                        \"other_pad_type\": \"No\", \n",
    "                        \"boarding_pavement\": \"PCC Concrete\""
   ]
  },
  {
   "cell_type": "code",
   "execution_count": null,
   "metadata": {
    "collapsed": true
   },
   "outputs": [],
   "source": [
    "pcc_bus_pad_length = '', \n",
    "metal_vta_benches = '0', \n",
    "parking_restrictions = 'No Parking Sign', \n",
    "adjacent_property = 'Commercial', \n",
    "boarding_area = 'No', \n",
    "curb_cuts = 'Yes', \n",
    "rti_decal = 'Yes', \n",
    "accessible_path_to_crossing = 'Yes', \n",
    "two_sided_sign = 'No', \n",
    "simmie_seat = null, \n",
    "rti = 'Yes', \n",
    "lighting_nearby = 'S.L. Same Side', \n",
    "tc_with_shelter = 'Yes', \n",
    "commercial_property = 'Office Building', \n",
    "shelter = 'Vendor Ad', \n",
    "ada_accessible = 'Yes', \n",
    "other_pad_type = 'No', \n",
    "boarding_pavement = 'PCC Concrete'"
   ]
  },
  {
   "cell_type": "code",
   "execution_count": 26,
   "metadata": {
    "collapsed": true
   },
   "outputs": [],
   "source": [
    "table_name = dataset['table_name']\n",
    "amigo_id = '99c9b41720194b07882b690f2b9dc02d'"
   ]
  },
  {
   "cell_type": "code",
   "execution_count": 27,
   "metadata": {
    "collapsed": false
   },
   "outputs": [
    {
     "data": {
      "text/plain": [
       "u'dataset_27816'"
      ]
     },
     "execution_count": 27,
     "metadata": {},
     "output_type": "execute_result"
    }
   ],
   "source": [
    "table_name"
   ]
  },
  {
   "cell_type": "code",
   "execution_count": null,
   "metadata": {
    "collapsed": true
   },
   "outputs": [],
   "source": [
    "query = (\"UPDATE {table} SET field1 = field1 + 1 \"\n",
    "         \"WHERE amigo_id = '{amigo}'\".format(table=table_name, amigo = amigo_id))\n",
    "response = ac.post(sql_url, {'query': query})\n",
    "\n",
    "print 'Query:', response['query']\n",
    "print 'This query updated', response['count'], 'row(s)'\n"
   ]
  },
  {
   "cell_type": "markdown",
   "metadata": {},
   "source": [
    "Ran this query in amigocloud api:\n",
    "UPDATE dataset_27816 SET pcc_bus_pad_length = '', \n",
    "metal_vta_benches = '0', \n",
    "parking_restrictions = 'No Parking Sign', \n",
    "adjacent_property = 'Commercial', \n",
    "boarding_area = 'No', \n",
    "curb_cuts = 'Yes', \n",
    "rti_decal = 'Yes', \n",
    "accessible_path_to_crossing = 'Yes', \n",
    "two_sided_sign = 'No', \n",
    "simmie_seat = null, \n",
    "rti = 'Yes', \n",
    "lighting_nearby = 'S.L. Same Side', \n",
    "tc_with_shelter = 'Yes', \n",
    "commercial_property = 'Office Building', \n",
    "shelter = 'Vendor Ad', \n",
    "ada_accessible = 'Yes', \n",
    "other_pad_type = 'No', \n",
    "boarding_pavement = 'PCC Concrete'\n",
    "where amigo_id = '99c9b41720194b07882b690f2b9dc02d'"
   ]
  }
 ],
 "metadata": {
  "kernelspec": {
   "display_name": "Python 3",
   "language": "python",
   "name": "python3"
  },
  "language_info": {
   "codemirror_mode": {
    "name": "ipython",
    "version": 3
   },
   "file_extension": ".py",
   "mimetype": "text/x-python",
   "name": "python",
   "nbconvert_exporter": "python",
   "pygments_lexer": "ipython3",
   "version": "3.5.1"
  }
 },
 "nbformat": 4,
 "nbformat_minor": 0
}
